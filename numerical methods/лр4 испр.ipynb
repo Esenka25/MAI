{
 "cells": [
  {
   "cell_type": "code",
   "id": "initial_id",
   "metadata": {
    "collapsed": true,
    "ExecuteTime": {
     "end_time": "2025-02-28T08:18:22.848479Z",
     "start_time": "2025-02-28T08:18:22.502720Z"
    }
   },
   "source": [
    "from numba import njit, prange\n",
    "import numpy as np\n",
    "\n",
    "import plotly.express as px\n",
    "import plotly.graph_objects as go"
   ],
   "outputs": [],
   "execution_count": 1
  },
  {
   "cell_type": "code",
   "source": [
    "def visualize_solution_3d_by_t(u_analytical, u_asm, u_sm, x, y, t, t_ix, tau, h, n_solutions, title):\n",
    "    t_colorscale = px.colors.sample_colorscale(\"Jet\", y)\n",
    "    fig = go.Figure()\n",
    "\n",
    "    fig.add_scatter3d(x=x, y=np.ones_like(x) * y[0], z=u_analytical(x, y[0], t[t_ix]), legendgroup=\"analytical\", name=\"Analytical\", mode=\"lines\", line=dict(color=t_colorscale[0], width=3))\n",
    "    for i in range(int(len(y) / n_solutions), len(y), int(len(y) / n_solutions)):  # Adjust the step size for clarity\n",
    "        fig.add_scatter3d(x=x, y=np.ones_like(x) * y[i], z=u_analytical(x, y[i], t[t_ix]), legendgroup=\"analytical\", showlegend=False, mode=\"lines\", line=dict(color=t_colorscale[i], width=3))\n",
    "\n",
    "\n",
    "    fig.add_scatter3d(x=x, y=np.ones_like(x) * y[0], z=u_asm[t_ix, :, 0], legendgroup=\"asm\", name=\"Adaptive step\", mode=\"lines\", line=dict(color=\"blue\", width=5, dash=\"dot\"), marker=dict(size=1))\n",
    "    for i in range(int(len(y) / n_solutions), len(y), int(len(y) / n_solutions)):  # Adjust the step size for clarity\n",
    "        fig.add_scatter3d(x=x, y=np.ones_like(x) * y[i], z=u_asm[t_ix, :, i], legendgroup=\"asm\", showlegend=False, mode=\"lines\", line=dict(color=\"blue\", width=5, dash=\"dot\"), marker=dict(size=1))\n",
    "\n",
    "    fig.add_scatter3d(x=x, y=np.ones_like(x) * y[0], z=u_sm[t_ix, :, 0], legendgroup=\"sm\", name=\"Splitting\", mode=\"lines\", line=dict(color=\"red\", width=4, dash=\"longdash\"), marker=dict(size=2))\n",
    "    for i in range(int(len(y) / n_solutions), len(y), int(len(y) / n_solutions)):  # Adjust the step size for clarity\n",
    "        fig.add_scatter3d(x=x, y=np.ones_like(x) * y[i], z=u_sm[t_ix, :, i], legendgroup=\"implicit\", showlegend=False, mode=\"lines\", line=dict(color=\"red\", width=4, dash=\"longdash\"), marker=dict(size=1))\n",
    "\n",
    "\n",
    "    fig.update_scenes(xaxis_title_text='x',\n",
    "                      yaxis_title_text='y',\n",
    "                      zaxis_title_text=f'u({t[t_ix]:.2f}, x, y)')\n",
    "    fig.update_layout(width=1080, height=720)\n",
    "\n",
    "    camera = dict(\n",
    "        eye=dict(x=-1.6, y=-1.6, z=1)\n",
    "    )\n",
    "\n",
    "    fig.update_layout(\n",
    "        scene_camera=camera,\n",
    "        title=f\"$\\\\text{{{title}}}t = {t[t_ix]:.2f}, \\\\Delta y = \\\\Delta x = {h:.1e}, \\\\Delta t = {tau:.1e}$\",\n",
    "        title_x=0.5\n",
    "    )\n",
    "    return fig"
   ],
   "metadata": {
    "collapsed": false,
    "ExecuteTime": {
     "end_time": "2025-02-28T08:18:22.864725Z",
     "start_time": "2025-02-28T08:18:22.857639Z"
    }
   },
   "id": "acb827e64b8e217e",
   "outputs": [],
   "execution_count": 2
  },
  {
   "cell_type": "code",
   "source": [
    "def visualize_solution_3d_by_y(u_analytical, u_asm, u_sm, x, y, y_ix, t, tau, h, n_solutions, title):\n",
    "    t_colorscale = px.colors.sample_colorscale(\"Jet\", t)\n",
    "    fig = go.Figure()\n",
    "\n",
    "    fig.add_scatter3d(x=x, y=np.ones_like(x) * t[0], z=u_analytical(x, t[0], y[y_ix]), legendgroup=\"analytical\", name=\"Analytical\", mode=\"lines\", line=dict(color=t_colorscale[0], width=3))\n",
    "    for i in range(int(len(t) / n_solutions), len(t), int(len(t) / n_solutions)):  # Adjust the step size for clarity\n",
    "        fig.add_scatter3d(x=x, y=np.ones_like(x) * t[i], z=u_analytical(x, y[y_ix], t[i]), legendgroup=\"analytical\", showlegend=False, mode=\"lines\", line=dict(color=t_colorscale[i], width=3))\n",
    "\n",
    "\n",
    "    fig.add_scatter3d(x=x, y=np.ones_like(x) * t[0], z=u_asm[0, :, y_ix], legendgroup=\"asm\", name=\"Adaptive step\", mode=\"lines\", line=dict(color=\"blue\", width=5, dash=\"dot\"), marker=dict(size=1))\n",
    "    for i in range(int(len(t) / n_solutions), len(t), int(len(t) / n_solutions)):  # Adjust the step size for clarity\n",
    "        fig.add_scatter3d(x=x, y=np.ones_like(x) * t[i], z=u_asm[i, :, y_ix], legendgroup=\"asm\", showlegend=False, mode=\"lines\", line=dict(color=\"blue\", width=5, dash=\"dot\"), marker=dict(size=1))\n",
    "\n",
    "    fig.add_scatter3d(x=x, y=np.ones_like(x) * t[0], z=u_sm[0, :, y_ix], legendgroup=\"sm\", name=\"Splitting\", mode=\"lines\", line=dict(color=\"red\", width=4, dash=\"longdash\"), marker=dict(size=2))\n",
    "    for i in range(int(len(t) / n_solutions), len(t), int(len(t) / n_solutions)):  # Adjust the step size for clarity\n",
    "        fig.add_scatter3d(x=x, y=np.ones_like(x) * t[i], z=u_sm[i, :, y_ix], legendgroup=\"implicit\", showlegend=False, mode=\"lines\", line=dict(color=\"red\", width=4, dash=\"longdash\"), marker=dict(size=1))\n",
    "\n",
    "\n",
    "    fig.update_scenes(xaxis_title_text='x',\n",
    "                      yaxis_title_text='t',\n",
    "                      zaxis_title_text=f'u(t, x, {y[y_ix]:.2f})')\n",
    "    fig.update_layout(width=1080, height=720)\n",
    "\n",
    "    camera = dict(\n",
    "        eye=dict(x=-1.6, y=-1.6, z=1)\n",
    "    )\n",
    "\n",
    "    fig.update_layout(\n",
    "        scene_camera=camera,\n",
    "        title=f\"$\\\\text{{{title}}}y = {y[y_ix]:.2f}, \\\\Delta y = \\\\Delta x = {h:.1e}, \\\\Delta t = {tau:.1e}$\",\n",
    "        title_x=0.5\n",
    "    )\n",
    "    return fig"
   ],
   "metadata": {
    "collapsed": false,
    "ExecuteTime": {
     "end_time": "2025-02-28T08:18:22.980053Z",
     "start_time": "2025-02-28T08:18:22.973238Z"
    }
   },
   "id": "a73cefc0f24444f2",
   "outputs": [],
   "execution_count": 3
  },
  {
   "cell_type": "code",
   "source": [
    "# Thomas algorithm\n",
    "@njit\n",
    "def tdma(l: np.ndarray, m: np.ndarray, u: np.ndarray, d: np.ndarray) -> np.ndarray:\n",
    "    n = len(d)\n",
    "    alpha = np.empty(n)\n",
    "    beta = np.empty(n)\n",
    "    x = np.empty(n)\n",
    "\n",
    "    alpha[0] = u[0] / m[0]\n",
    "    beta[0] = d[0] / m[0]\n",
    "    for i in range(1, n):\n",
    "        alpha[i] = u[i] / (m[i] - l[i] * alpha[i - 1])\n",
    "        beta[i] = (d[i] - l[i] * beta[i - 1]) / (m[i] - l[i] * alpha[i - 1])\n",
    "\n",
    "    x[-1] = beta[-1]\n",
    "\n",
    "    for i in range(-2, -n - 1, -1):\n",
    "        x[i] = beta[i] - alpha[i] * x[i + 1]\n",
    "    return x"
   ],
   "metadata": {
    "collapsed": false,
    "ExecuteTime": {
     "end_time": "2025-02-28T08:18:23.000019Z",
     "start_time": "2025-02-28T08:18:22.986932Z"
    }
   },
   "id": "1f7c93f6aa58f9c6",
   "outputs": [],
   "execution_count": 4
  },
  {
   "cell_type": "code",
   "source": [
    "@njit\n",
    "def f(x, y, t):\n",
    "    return x * y * np.cos(t)\n",
    "\n",
    "def u_analytical(x: np.ndarray, y: np.ndarray, t: np.ndarray) -> np.ndarray:\n",
    "    return x * y * np.sin(t)\n",
    "\n",
    "def get_grid(m, n):\n",
    "    T = 1\n",
    "    t, tau = np.linspace(0, T, 2 * m + 1, retstep=True) # fractional steps\n",
    "    x, h = np.linspace(0, 1, n + 1, retstep=True)\n",
    "    y = np.linspace(0, 1, n + 1)\n",
    "    return t, x, y, tau, h\n",
    "\n",
    "def init_u(n, m, x, y, t):\n",
    "    u = np.empty(shape=(2 * m + 1, n + 1, n + 1))  # matrix for numerical solution of u\n",
    "    u[0, ...] = 0\n",
    "    u[:, 0, :] = 0  # left boundary condition by x\n",
    "    u[:, -1, :] = y * np.sin(t)[:, np.newaxis] # right boundary condition by x\n",
    "    u[:, :, 0] = 0  # bottom boundary condition by y\n",
    "    u[:, :, -1] = x * np.sin(t)[:, np.newaxis] # top boundary condition by y\n",
    "    return u"
   ],
   "metadata": {
    "collapsed": false,
    "ExecuteTime": {
     "end_time": "2025-02-28T08:18:23.047809Z",
     "start_time": "2025-02-28T08:18:23.043951Z"
    }
   },
   "id": "c133f0e6cb595099",
   "outputs": [],
   "execution_count": 5
  },
  {
   "cell_type": "code",
   "source": [
    "N = 2 ** 5\n",
    "M = 2 ** 12\n",
    "t, x, y, tau, h = get_grid(M, N)\n",
    "\n",
    "tau / h ** 2 < 1/4"
   ],
   "metadata": {
    "collapsed": false,
    "ExecuteTime": {
     "end_time": "2025-02-28T08:18:23.067309Z",
     "start_time": "2025-02-28T08:18:23.062745Z"
    }
   },
   "id": "45f20a2ddafa33c",
   "outputs": [
    {
     "data": {
      "text/plain": [
       "np.True_"
      ]
     },
     "execution_count": 6,
     "metadata": {},
     "output_type": "execute_result"
    }
   ],
   "execution_count": 6
  },
  {
   "cell_type": "markdown",
   "source": [
    "## Adaptive Step Method"
   ],
   "metadata": {
    "collapsed": false
   },
   "id": "ab2e0d241ab1f806"
  },
  {
   "cell_type": "code",
   "source": [
    "u_asm = init_u(N, M, x, y, t)"
   ],
   "metadata": {
    "collapsed": false,
    "ExecuteTime": {
     "end_time": "2025-02-28T08:18:23.122566Z",
     "start_time": "2025-02-28T08:18:23.098939Z"
    }
   },
   "id": "97c06704579d5cda",
   "outputs": [],
   "execution_count": 7
  },
  {
   "cell_type": "code",
   "source": [
    "@njit\n",
    "def next_step_by_asm(u: np.ndarray, t: np.ndarray, x: np.ndarray, y: np.ndarray, prev_ix: int, h: float,\n",
    "                                     tau: float):\n",
    "    n = u.shape[1]\n",
    "    a = np.full(n - 1, -1)\n",
    "    a[0] = 0\n",
    "\n",
    "    b = np.full(n - 1, 2 + 2 * h ** 2 / (3 * tau))\n",
    "\n",
    "    c = np.full(n - 1, -1)\n",
    "    c[-1] = 0\n",
    "    j = prev_ix + 1\n",
    "    for i in range(1, n-1):\n",
    "        d = u[prev_ix, 1:-1, i + 1] + (2 * h ** 2 / 3 / tau - 2) * u[prev_ix, 1:-1, i] + u[prev_ix, 1:-1, i - 1] + h ** 2 / 3 * f(x[1:-1], y[i], t[j])\n",
    "        d[-1] += y[i] * np.sin(t[j])\n",
    "        u[j, 1:-1, i] = tdma(a, b, c, d)\n",
    "    \n",
    "    prev_ix = j\n",
    "    j += 1\n",
    "    for i in range(1, n-1):\n",
    "        d = u[prev_ix, i + 1, 1:-1] + (2 * h ** 2 / 3 / tau - 2) * u[prev_ix, i, 1:-1] + u[prev_ix, i - 1, 1:-1] + h ** 2 / 3 * f(x[i], y[1:-1], t[prev_ix])\n",
    "        d[-1] += x[i] * np.sin(t[j])\n",
    "        u[j, i, 1:-1] = tdma(a, b, c, d)"
   ],
   "metadata": {
    "collapsed": false,
    "ExecuteTime": {
     "end_time": "2025-02-28T08:18:23.134649Z",
     "start_time": "2025-02-28T08:18:23.130289Z"
    }
   },
   "id": "2e58f0a4e89952f2",
   "outputs": [],
   "execution_count": 8
  },
  {
   "cell_type": "code",
   "source": [
    "for k in range(0, 2*M, 2):\n",
    "    next_step_by_asm(u_asm, t, x, y, k, h, tau)"
   ],
   "metadata": {
    "collapsed": false,
    "ExecuteTime": {
     "end_time": "2025-02-28T08:18:25.420272Z",
     "start_time": "2025-02-28T08:18:23.141933Z"
    }
   },
   "id": "f9a18a90f12a6339",
   "outputs": [],
   "execution_count": 9
  },
  {
   "cell_type": "markdown",
   "source": [
    "## Splitting method"
   ],
   "metadata": {
    "collapsed": false
   },
   "id": "4f1edf655753fa19"
  },
  {
   "cell_type": "code",
   "source": [
    "u_sm = init_u(N, M, x, y, t)"
   ],
   "metadata": {
    "collapsed": false,
    "ExecuteTime": {
     "end_time": "2025-02-28T08:18:25.443034Z",
     "start_time": "2025-02-28T08:18:25.427062Z"
    }
   },
   "id": "861bd66dd36a447c",
   "outputs": [],
   "execution_count": 10
  },
  {
   "cell_type": "code",
   "source": [
    "@njit\n",
    "def next_step_by_sm(u: np.ndarray, t: np.ndarray, x: np.ndarray, y: np.ndarray, prev_ix: int, h: float,\n",
    "                     tau: float):\n",
    "    n = u.shape[1]\n",
    "    a = np.full(n - 1, -1)\n",
    "    a[0] = 0\n",
    "\n",
    "    b = np.full(n - 1, 2 + h ** 2 / (3 * tau))\n",
    "\n",
    "    c = np.full(n - 1, -1)\n",
    "    c[-1] = 0\n",
    "    j = prev_ix + 1\n",
    "    for i in range(1, n-1):\n",
    "        d = h ** 2 / 3 / tau * u[prev_ix, 1:-1, i] + h ** 2 / 6 * f(x[1:-1], y[i], t[j])\n",
    "        d[-1] += y[i] * np.sin(t[j])\n",
    "        u[j, 1:-1, i] = tdma(a, b, c, d)\n",
    "\n",
    "    prev_ix = j\n",
    "    j += 1\n",
    "    for i in range(1, n-1):\n",
    "        d = h ** 2 / 3 / tau * u[prev_ix, i, 1:-1] + h ** 2 / 6 * f(x[i], y[1:-1], t[prev_ix])\n",
    "        d[-1] += x[i] * np.sin(t[j])\n",
    "        u[j, i, 1:-1] = tdma(a, b, c, d)"
   ],
   "metadata": {
    "collapsed": false,
    "ExecuteTime": {
     "end_time": "2025-02-28T08:18:25.455544Z",
     "start_time": "2025-02-28T08:18:25.451100Z"
    }
   },
   "id": "d2b2462ff4d351b4",
   "outputs": [],
   "execution_count": 11
  },
  {
   "cell_type": "code",
   "source": [
    "for k in range(0, 2*M, 2):\n",
    "    next_step_by_sm(u_sm, t, x, y, k, h, tau)"
   ],
   "metadata": {
    "collapsed": false,
    "ExecuteTime": {
     "end_time": "2025-02-28T08:18:25.947815Z",
     "start_time": "2025-02-28T08:18:25.466256Z"
    }
   },
   "id": "84ac8fcd71e6205",
   "outputs": [],
   "execution_count": 12
  },
  {
   "cell_type": "code",
   "source": [
    "fig = visualize_solution_3d_by_t(u_analytical, u_asm, u_sm, x, y, t, -1, tau, h, 30, \"The numerical solution of two-dim heat equation \")\n",
    "fig.write_image(\"3d_2dim_heat_eq_t_1.png\", scale=6)"
   ],
   "metadata": {
    "collapsed": false,
    "ExecuteTime": {
     "end_time": "2025-02-28T08:18:31.994736Z",
     "start_time": "2025-02-28T08:18:25.954851Z"
    }
   },
   "id": "bdc8130ba53bd436",
   "outputs": [],
   "execution_count": 13
  },
  {
   "cell_type": "code",
   "source": [
    "fig = visualize_solution_3d_by_t(u_analytical, u_asm, u_sm, x, y, t, len(t)//2, tau, h, 30, \"The numerical solution of two-dim heat equation \")\n",
    "fig.write_image(f\"3d_2dim_heat_eq_half_t.png\", scale=6)"
   ],
   "metadata": {
    "collapsed": false,
    "ExecuteTime": {
     "end_time": "2025-02-28T08:18:38.029691Z",
     "start_time": "2025-02-28T08:18:32.049337Z"
    }
   },
   "id": "791879c0deddead3",
   "outputs": [],
   "execution_count": 14
  },
  {
   "cell_type": "code",
   "source": [
    "fig = visualize_solution_3d_by_y(u_analytical, u_asm, u_sm, x, y, len(y)// 8, t, tau, h, 30, \"The numerical solution of two-dim heat equation \")\n",
    "fig.write_image(f\"3d_2dim_heat_eq_eighth_y.png\", scale=6)"
   ],
   "metadata": {
    "collapsed": false,
    "ExecuteTime": {
     "end_time": "2025-02-28T08:18:48.845006Z",
     "start_time": "2025-02-28T08:18:38.280753Z"
    }
   },
   "id": "a6e0ec3e5d258382",
   "outputs": [],
   "execution_count": 15
  },
  {
   "cell_type": "code",
   "source": [
    "N = 2 ** 4\n",
    "M = 2 ** 6\n",
    "t, x, y, tau, h = get_grid(M, N)\n",
    "\n",
    "print(tau / h ** 2 < 1/4)\n",
    "\n",
    "u_asm = init_u(N, M, x, y, t)\n",
    "\n",
    "for k in range(0, 2*M, 2):\n",
    "    next_step_by_asm(u_asm, t, x, y, k, h, tau)\n",
    "\n",
    "u_sm = init_u(N, M, x, y, t)\n",
    "\n",
    "for k in range(0, 2*M, 2):\n",
    "    next_step_by_sm(u_sm, t, x, y, k, h, tau)"
   ],
   "metadata": {
    "collapsed": false,
    "ExecuteTime": {
     "end_time": "2025-02-28T08:18:48.928646Z",
     "start_time": "2025-02-28T08:18:48.911350Z"
    }
   },
   "id": "a3a27b190948c1c4",
   "outputs": [
    {
     "name": "stdout",
     "output_type": "stream",
     "text": [
      "False\n"
     ]
    }
   ],
   "execution_count": 16
  },
  {
   "cell_type": "code",
   "source": [
    "fig = go.Figure()\n",
    "\n",
    "(fig.add_scatter(x=t, y=abs(u_asm[:, 5, 5] - u_analytical(x[5], y[5], t)), name=\"Adaptive Step\")\n",
    " .add_scatter(x=t, y=abs(u_sm[:, 5, 5] - u_analytical(x[5], y[5], t)), name=\"Splitting\")\n",
    " )\n",
    "\n",
    "fig.update_layout(xaxis_title=\"t\", yaxis_title=\"Absolute Error\", title=f\"$\\\\text{{Absolute error on the slice by }} y = {y[5]:.2f}, x = {x[5]:.2f}, \\\\Delta x = \\\\Delta y = {h:.2e}, \\\\Delta t = {tau:.2e}$\", yaxis_tickformat=\".2e\", width=1280, height=720)\n",
    "fig.write_image(\"abs_err_x_y.png\", scale=6)"
   ],
   "metadata": {
    "collapsed": false,
    "ExecuteTime": {
     "end_time": "2025-02-28T08:18:49.496676Z",
     "start_time": "2025-02-28T08:18:48.974624Z"
    }
   },
   "id": "6aaec192e995449e",
   "outputs": [],
   "execution_count": 17
  },
  {
   "cell_type": "code",
   "source": [
    "fig = go.Figure()\n",
    "\n",
    "(fig.add_scatter(x=x, y=abs(u_asm[-1, :, 5] - u_analytical(x, y[5], t[-1])), name=\"Adaptive Step\")\n",
    " .add_scatter(x=x, y=abs(u_sm[-1, :, 5] - u_analytical(x, y[5], t[-1])), name=\"Splitting\")\n",
    " )\n",
    "\n",
    "fig.update_layout(xaxis_title=\"x\", yaxis_title=\"Absolute Error\", title=f\"$\\\\text{{Absolute error on the slice by }} t = {t[-1]:.2f}, y = {y[5]:.2f}, \\\\Delta x = \\\\Delta y = {h:.2e}, \\\\Delta t = {tau:.2e}$\", yaxis_tickformat=\".2e\", width=1280, height=720)\n",
    "fig.write_image(\"abs_err_t_y.png\", scale=6)"
   ],
   "metadata": {
    "collapsed": false,
    "ExecuteTime": {
     "end_time": "2025-02-28T08:18:49.944418Z",
     "start_time": "2025-02-28T08:18:49.520564Z"
    }
   },
   "id": "e49fd30e82c19363",
   "outputs": [],
   "execution_count": 18
  },
  {
   "cell_type": "code",
   "source": [
    "N = 2 ** 6 # increased number of steps\n",
    "M = 2 ** 6\n",
    "t, x, y, tau, h = get_grid(M, N)\n",
    "\n",
    "print(tau / h ** 2 < 1 / 4)\n",
    "\n",
    "u_asm = init_u(N, M, x, y, t)\n",
    "\n",
    "for k in range(0, 2 * M, 2):\n",
    "    next_step_by_asm(u_asm, t, x, y, k, h, tau)\n",
    "\n",
    "u_sm = init_u(N, M, x, y, t)\n",
    "\n",
    "for k in range(0, 2 * M, 2):\n",
    "    next_step_by_sm(u_sm, t, x, y, k, h, tau)\n",
    "fig = go.Figure()\n",
    "\n",
    "(fig.add_scatter(x=t, y=abs(u_asm[:, 5, 5] - u_analytical(x[5], y[5], t)), name=\"Adaptive Step\")\n",
    " .add_scatter(x=t, y=abs(u_sm[:, 5, 5] - u_analytical(x[5], y[5], t)), name=\"Splitting\")\n",
    " )\n",
    "\n",
    "fig.update_layout(xaxis_title=\"t\", yaxis_title=\"Absolute Error\",\n",
    "                  title=f\"$\\\\text{{Absolute error on the slice by }} y = {y[5]:.2f}, x = {x[5]:.2f}, \\\\Delta x = \\\\Delta y = {h:.2e}, \\\\Delta t = {tau:.2e}$\",\n",
    "                  yaxis_tickformat=\".2e\", width=1280, height=720)\n",
    "fig.write_image(\"abs_err_x_y_inc_n.png\", scale=6)"
   ],
   "metadata": {
    "collapsed": false,
    "ExecuteTime": {
     "end_time": "2025-02-28T08:18:50.392976Z",
     "start_time": "2025-02-28T08:18:49.953884Z"
    }
   },
   "id": "98c2715b90c01216",
   "outputs": [
    {
     "name": "stdout",
     "output_type": "stream",
     "text": [
      "False\n"
     ]
    }
   ],
   "execution_count": 19
  },
  {
   "cell_type": "code",
   "source": [
    "fig = go.Figure()\n",
    "\n",
    "(fig.add_scatter(x=x, y=abs(u_asm[-1, :, 5] - u_analytical(x, y[5], t[-1])), name=\"Adaptive Step\")\n",
    " .add_scatter(x=x, y=abs(u_sm[-1, :, 5] - u_analytical(x, y[5], t[-1])), name=\"Splitting\")\n",
    " )\n",
    "\n",
    "fig.update_layout(xaxis_title=\"x\", yaxis_title=\"Absolute Error\", title=f\"$\\\\text{{Absolute error on the slice by }} t = {t[-1]:.2f}, y = {y[5]:.2f}, \\\\Delta x = \\\\Delta y = {h:.2e}, \\\\Delta t = {tau:.2e}$\", yaxis_tickformat=\".2e\", width=1280, height=720)\n",
    "fig.write_image(\"abs_err_t_y_inc_n.png\", scale=6)\n"
   ],
   "metadata": {
    "collapsed": false,
    "ExecuteTime": {
     "end_time": "2025-02-28T08:18:50.778500Z",
     "start_time": "2025-02-28T08:18:50.407258Z"
    }
   },
   "id": "9c3822c610d2fc4c",
   "outputs": [],
   "execution_count": 20
  },
  {
   "cell_type": "code",
   "source": [
    "N = 2 ** 6 \n",
    "M = 2 ** 12 # increased number of steps\n",
    "t, x, y, tau, h = get_grid(M, N)\n",
    "\n",
    "print(tau / h ** 2 < 1 / 4)\n",
    "\n",
    "u_asm = init_u(N, M, x, y, t)\n",
    "\n",
    "for k in range(0, 2 * M, 2):\n",
    "    next_step_by_asm(u_asm, t, x, y, k, h, tau)\n",
    "\n",
    "u_sm = init_u(N, M, x, y, t)\n",
    "\n",
    "for k in range(0, 2 * M, 2):\n",
    "    next_step_by_sm(u_sm, t, x, y, k, h, tau)\n",
    "fig = go.Figure()\n",
    "\n",
    "(fig.add_scatter(x=t, y=abs(u_asm[:, 5, 5] - u_analytical(x[5], y[5], t)), name=\"Adaptive Step\")\n",
    " .add_scatter(x=t, y=abs(u_sm[:, 5, 5] - u_analytical(x[5], y[5], t)), name=\"Splitting\")\n",
    " )\n",
    "\n",
    "fig.update_layout(xaxis_title=\"t\", yaxis_title=\"Absolute Error\",\n",
    "                  title=f\"$\\\\text{{Absolute error on the slice by }} y = {y[5]:.2f}, x = {x[5]:.2f}, \\\\Delta x = \\\\Delta y = {h:.2e}, \\\\Delta t = {tau:.2e}$\",\n",
    "                  yaxis_tickformat=\".2e\", width=1280, height=720)\n",
    "fig.write_image(\"abs_err_x_y_inc_m.png\", scale=6)\n"
   ],
   "metadata": {
    "collapsed": false,
    "ExecuteTime": {
     "end_time": "2025-02-28T08:18:54.718556Z",
     "start_time": "2025-02-28T08:18:50.794398Z"
    }
   },
   "id": "25c0fc4e5ee02b9e",
   "outputs": [
    {
     "name": "stdout",
     "output_type": "stream",
     "text": [
      "False\n"
     ]
    }
   ],
   "execution_count": 21
  },
  {
   "cell_type": "code",
   "source": [
    "fig = go.Figure()\n",
    "\n",
    "(fig.add_scatter(x=x, y=abs(u_asm[-1, :, 5] - u_analytical(x, y[5], t[-1])), name=\"Adaptive Step\")\n",
    " .add_scatter(x=x, y=abs(u_sm[-1, :, 5] - u_analytical(x, y[5], t[-1])), name=\"Splitting\")\n",
    " )\n",
    "\n",
    "fig.update_layout(xaxis_title=\"x\", yaxis_title=\"Absolute Error\", title=f\"$\\\\text{{Absolute error on the slice by }} t = {t[-1]:.2f}, y = {y[5]:.2f}, \\\\Delta x = \\\\Delta y = {h:.2e}, \\\\Delta t = {tau:.2e}$\", yaxis_tickformat=\".2e\", width=1280, height=720)\n",
    "fig.write_image(\"abs_err_t_y_inc_m.png\", scale=6)"
   ],
   "metadata": {
    "collapsed": false,
    "ExecuteTime": {
     "end_time": "2025-02-28T08:18:55.848142Z",
     "start_time": "2025-02-28T08:18:54.833812Z"
    }
   },
   "id": "a05cdd6536648192",
   "outputs": [],
   "execution_count": 22
  },
  {
   "cell_type": "code",
   "source": [],
   "metadata": {
    "collapsed": false,
    "ExecuteTime": {
     "end_time": "2025-02-28T08:18:56.344923Z",
     "start_time": "2025-02-28T08:18:56.340994Z"
    }
   },
   "id": "1798a9fd0a72c174",
   "outputs": [],
   "execution_count": null
  }
 ],
 "metadata": {
  "kernelspec": {
   "display_name": "Python 3",
   "language": "python",
   "name": "python3"
  },
  "language_info": {
   "codemirror_mode": {
    "name": "ipython",
    "version": 2
   },
   "file_extension": ".py",
   "mimetype": "text/x-python",
   "name": "python",
   "nbconvert_exporter": "python",
   "pygments_lexer": "ipython2",
   "version": "2.7.6"
  }
 },
 "nbformat": 4,
 "nbformat_minor": 5
}
